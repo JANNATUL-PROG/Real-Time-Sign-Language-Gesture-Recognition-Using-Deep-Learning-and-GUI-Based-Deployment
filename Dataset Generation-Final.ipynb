{
 "cells": [
  {
   "cell_type": "code",
   "execution_count": null,
   "id": "cdf5eb49-398e-4adf-ab9c-7f3e60f65b63",
   "metadata": {},
   "outputs": [],
   "source": [
    "!pip install cvzone opencv-python mediapipe==0.10.11"
   ]
  },
  {
   "cell_type": "markdown",
   "id": "6fb681eb-ba16-4baa-878a-8562c74c8f32",
   "metadata": {},
   "source": [
    "### Importing Libraries"
   ]
  },
  {
   "cell_type": "code",
   "execution_count": null,
   "id": "9857431f-ed7e-4a11-a815-a3f8cd1db7b1",
   "metadata": {},
   "outputs": [],
   "source": [
    "import csv\n",
    "import pandas as pd\n",
    "import os\n",
    "import time\n",
    "import cv2\n",
    "import numpy as np\n",
    "import mediapipe as mp\n",
    "from cvzone.HandTrackingModule import HandDetector\n",
    "\n",
    "print(\"cv2 version:\", cv2.__version__)\n",
    "print(\"mediapipe version:\", mp.__version__)\n",
    "print(\"cvzone HandDetector imported successfully\")"
   ]
  },
  {
   "cell_type": "code",
   "execution_count": null,
   "id": "67d4a54b-458e-4f91-9d31-aa24b1c0f2b0",
   "metadata": {},
   "outputs": [],
   "source": [
    "classes = [\"thanks\", \"ok\", \"silent\", \"rock\"]\n",
    "num_classes = len(classes)\n",
    "\n",
    "dataset_dir = \"SignLanguageDataset\"\n",
    "os.makedirs(dataset_dir, exist_ok=True)\n",
    "\n",
    "for class_name in classes:\n",
    "    class_dir = os.path.join(dataset_dir, class_name)\n",
    "    os.makedirs(class_dir, exist_ok=True)"
   ]
  },
  {
   "cell_type": "code",
   "execution_count": null,
   "id": "a4c4a909-83d4-4498-b16b-035ff1381129",
   "metadata": {},
   "outputs": [],
   "source": [
    "cap = cv2.VideoCapture(0)\n",
    "detector = HandDetector(detectionCon=0.8, maxHands=1)\n",
    "\n",
    "current_class_index = 0\n",
    "image_count_per_class = {class_name: len(os.listdir(os.path.join(dataset_dir, class_name))) for class_name in classes}\n",
    "total_image_count = sum(image_count_per_class.values())\n",
    "capturing = False"
   ]
  },
  {
   "cell_type": "code",
   "execution_count": null,
   "id": "5a4ffd67-4649-4cd2-b125-f774034ed165",
   "metadata": {},
   "outputs": [],
   "source": [
    "print(\"Press 'c' to start/stop capturing images for the current class.\")\n",
    "print(\"Press 'n' to move to the next class.\")\n",
    "print(\"Press 'q' to quit.\")"
   ]
  },
  {
   "cell_type": "code",
   "execution_count": null,
   "id": "229aaf40-87de-4aae-9af4-7ac52b5fe6d1",
   "metadata": {},
   "outputs": [],
   "source": [
    "def add_padding_and_resize(hand_img, size=(224, 224), color=(0, 0, 0)):\n",
    "    h, w, _ = hand_img.shape\n",
    "    aspect_ratio = w / h\n",
    "\n",
    "    if aspect_ratio > 1: # width > height\n",
    "        new_w = size[0]\n",
    "        new_h = int(new_w / aspect_ratio)\n",
    "    else:    # height > width\n",
    "        new_h = size[1]\n",
    "        new_w = int(new_h * aspect_ratio)\n",
    "\n",
    "    #resizing and padding\n",
    "    resized_hand = cv2.resize(hand_img, (new_w, new_h))\n",
    "    padded_hand = np.full((size[1], size[0], 3), color, dtype=np.uint8)\n",
    "\n",
    "    # Center the image\n",
    "    x_offset = (size[0] - new_w) // 2\n",
    "    y_offset = (size[1] - new_h) // 2\n",
    "    padded_hand[y_offset:y_offset+new_h, x_offset:x_offset+new_w] = resized_hand\n",
    "\n",
    "    grayscale_hand = cv2.cvtColor(padded_hand, cv2.COLOR_BGR2GRAY)\n",
    "    \n",
    "    return grayscale_hand"
   ]
  },
  {
   "cell_type": "code",
   "execution_count": null,
   "id": "82309f6c-d42a-46cf-8666-59a98d0b01f3",
   "metadata": {},
   "outputs": [],
   "source": []
  },
  {
   "cell_type": "code",
   "execution_count": null,
   "id": "3338a1d1-a5f1-44ab-821f-8858b69d56e1",
   "metadata": {},
   "outputs": [],
   "source": [
    "while True:\n",
    "    success, img = cap.read()\n",
    "    if not success:\n",
    "        continue\n",
    "    \n",
    "    hands, img = detector.findHands(img)\n",
    "    current_class = classes[current_class_index]\n",
    "    \n",
    "    # Display logic\n",
    "    cv2.putText(img, f\"Class: {current_class}\", (10, 30), cv2.FONT_HERSHEY_SIMPLEX, 1, (0, 255, 0), 2)\n",
    "\n",
    "    # Display the image counters\n",
    "    cv2.putText(img, f\"Images for {current_class}: {image_count_per_class[current_class]}\", (10, 70), cv2.FONT_HERSHEY_SIMPLEX, 0.7, (255, 255, 0), 2)\n",
    "    cv2.putText(img, f\"Total Images: {total_image_count}\", (10, 100), cv2.FONT_HERSHEY_SIMPLEX, 0.7, (255, 255, 0), 2)\n",
    "\n",
    "    \n",
    "    if capturing and hands:\n",
    "        for hand in hands:\n",
    "           \n",
    "            x, y, w, h = hand['bbox']\n",
    "            hand_img = img[max(0, y-10):min(img.shape[0], y+h+10), \n",
    "                           max(0, x-10):min(img.shape[1], x+w+10)]\n",
    "            processed_hand = add_padding_and_resize(hand_img)\n",
    "\n",
    "           \n",
    "            image_count = image_count_per_class[current_class] + 1\n",
    "            image_path = os.path.join(dataset_dir, current_class, f\"{image_count}.jpg\")\n",
    "            cv2.imwrite(image_path, processed_hand)\n",
    "            \n",
    "            # update counters\n",
    "            image_count_per_class[current_class] += 1\n",
    "            total_image_count += 1\n",
    "            time.sleep(0.002)\n",
    "\n",
    "    cv2.imshow(\"Image\", img)\n",
    "\n",
    "\n",
    "    key = cv2.waitKey(1) & 0xFF\n",
    "    if key == ord('c'):\n",
    "        capturing = not capturing\n",
    "        print(f\"{'Started' if capturing else 'Stopped'} capturing images for class '{current_class}'.\")\n",
    "    elif key == ord('n'):\n",
    "        capturing = False\n",
    "        current_class_index = (current_class_index + 1) % num_classes\n",
    "        print(f\"Switched to class '{classes[current_class_index]}'.\")\n",
    "    elif key == ord('q'):\n",
    "        break\n",
    "\n",
    "cap.release()\n",
    "cv2.destroyAllWindows()"
   ]
  },
  {
   "cell_type": "code",
   "execution_count": null,
   "id": "587887a7-69dc-4f45-bea7-2055a970f03b",
   "metadata": {},
   "outputs": [],
   "source": []
  }
 ],
 "metadata": {
  "kernelspec": {
   "display_name": "Python 3 (ipykernel)",
   "language": "python",
   "name": "python3"
  },
  "language_info": {
   "codemirror_mode": {
    "name": "ipython",
    "version": 3
   },
   "file_extension": ".py",
   "mimetype": "text/x-python",
   "name": "python",
   "nbconvert_exporter": "python",
   "pygments_lexer": "ipython3",
   "version": "3.10.16"
  }
 },
 "nbformat": 4,
 "nbformat_minor": 5
}
